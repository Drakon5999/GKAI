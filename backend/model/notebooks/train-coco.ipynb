{
 "cells": [
  {
   "cell_type": "code",
   "execution_count": null,
   "id": "9822a5c4",
   "metadata": {},
   "outputs": [],
   "source": [
    "import sys\n",
    "sys.path.append('..')\n",
    "from pycocotools.coco import COCO"
   ]
  },
  {
   "cell_type": "code",
   "execution_count": null,
   "id": "d3db9138",
   "metadata": {},
   "outputs": [],
   "source": [
    "coco = COCO(path_to_annotations)"
   ]
  },
  {
   "cell_type": "code",
   "execution_count": null,
   "id": "463069cf",
   "metadata": {},
   "outputs": [],
   "source": [
    "cls = [coco.cats[i]['name'] if i in coco.cats.keys() else 'No class' for i in range(1, max(coco.cats.keys() ) + 1)]"
   ]
  },
  {
   "cell_type": "code",
   "execution_count": null,
   "id": "90dede93",
   "metadata": {},
   "outputs": [],
   "source": [
    "cls = ['background'] + cls"
   ]
  },
  {
   "cell_type": "code",
   "execution_count": null,
   "id": "2e33664a",
   "metadata": {},
   "outputs": [],
   "source": [
    "conf = {\n",
    "    'images_path': path_to_images,\n",
    "    'annotations_path': path_to_annotations,\n",
    "    'remove_zeros': True,\n",
    "    'train_batch_size': 16,\n",
    "    'test_batch_size': 4,\n",
    "    'class_names' : cls,\n",
    "    'num_classes': 91,\n",
    "    'nms_thresh': 0.01,\n",
    "    'num_epochs': 9,\n",
    "    'path_to_model': path_to_checkpoint\n",
    "} "
   ]
  },
  {
   "cell_type": "code",
   "execution_count": null,
   "id": "95445954",
   "metadata": {},
   "outputs": [],
   "source": [
    "from utils.prepare_dataset import clean_zero\n",
    "import os\n",
    "if conf['remove_zeros']:\n",
    "    clean_zero(os.path.join(conf['annotations_path'], 'train.json'))\n",
    "    clean_zero(os.path.join(conf['annotations_path'], 'val.json'))"
   ]
  },
  {
   "cell_type": "code",
   "execution_count": null,
   "id": "db0ce1e4",
   "metadata": {},
   "outputs": [],
   "source": [
    "from loaders.dl import COCODataset, collate_fn \n",
    "import os"
   ]
  },
  {
   "cell_type": "code",
   "execution_count": null,
   "id": "800757c3",
   "metadata": {},
   "outputs": [],
   "source": [
    "if conf['remove_zeros']:\n",
    "    train_annotations = os.path.join(conf['annotations_path'], 'train_clean.json')\n",
    "    val_annotations = os.path.join(conf['annotations_path'], 'val_clean.json')\n",
    "else:\n",
    "    train_annotations = os.path.join(conf['annotations_path'], 'train.json')\n",
    "    val_annotations = os.path.join(conf['annotations_path'], 'val.json')"
   ]
  },
  {
   "cell_type": "code",
   "execution_count": null,
   "id": "ca7b6b05",
   "metadata": {},
   "outputs": [],
   "source": [
    "train_ds = COCODataset(root=conf['images_path'],\n",
    "                       annotation=train_annotations)\n",
    "\n",
    "test_ds = COCODataset(root=conf['images_path'],\n",
    "                      annotation=val_annotations)\n"
   ]
  },
  {
   "cell_type": "code",
   "execution_count": null,
   "id": "b6c4e3b0",
   "metadata": {},
   "outputs": [],
   "source": [
    "import torch\n",
    "data_loader_train = torch.utils.data.DataLoader(train_ds,\n",
    "                                                batch_size=conf['train_batch_size'],\n",
    "                                                shuffle=True,\n",
    "                                                num_workers=0,\n",
    "                                                collate_fn=collate_fn)\n",
    "\n",
    "data_loader_test = torch.utils.data.DataLoader(test_ds,\n",
    "                                               batch_size=conf['test_batch_size'],\n",
    "                                               shuffle=True,\n",
    "                                               num_workers=4,\n",
    "                                               collate_fn=collate_fn)\n",
    "\n",
    "data_loader_infer = torch.utils.data.DataLoader(test_ds,\n",
    "                                                batch_size=1,\n",
    "                                                shuffle=True,\n",
    "                                                num_workers=4,\n",
    "                                                collate_fn=collate_fn)"
   ]
  },
  {
   "cell_type": "code",
   "execution_count": null,
   "id": "9fcdf1a1",
   "metadata": {},
   "outputs": [],
   "source": [
    "device = torch.device('cuda:0') if torch.cuda.is_available() else torch.device('cpu')"
   ]
  },
  {
   "cell_type": "code",
   "execution_count": null,
   "id": "0d9e03ed",
   "metadata": {},
   "outputs": [],
   "source": [
    "import torchvision\n",
    "from models.train_utils import *\n"
   ]
  },
  {
   "cell_type": "markdown",
   "id": "ba185ba3",
   "metadata": {},
   "source": [
    "### Модель и обучение"
   ]
  },
  {
   "cell_type": "code",
   "execution_count": null,
   "id": "61aae3c8",
   "metadata": {},
   "outputs": [],
   "source": [
    "model = torchvision.models.detection.fasterrcnn_resnet50_fpn(box_nms_thresh=conf['nms_thresh'], \n",
    "                                                             num_classes=conf['num_classes'])\n",
    "model.to(device)"
   ]
  },
  {
   "cell_type": "code",
   "execution_count": null,
   "id": "3f68b38d",
   "metadata": {},
   "outputs": [],
   "source": [
    "best_metric = 0\n",
    "print_freq = 25"
   ]
  },
  {
   "cell_type": "code",
   "execution_count": null,
   "id": "94d48693",
   "metadata": {},
   "outputs": [],
   "source": [
    "params = [p for p in model.parameters() if p.requires_grad]\n",
    "optimizer = torch.optim.SGD(params, lr=0.005, momentum=0.9, weight_decay=0.0005)\n",
    "scheduler = torch.optim.lr_scheduler.StepLR(optimizer, step_size=3, gamma=0.25)"
   ]
  },
  {
   "cell_type": "code",
   "execution_count": null,
   "id": "c0df9221",
   "metadata": {},
   "outputs": [],
   "source": [
    "for epoch in range(1, conf['num_epochs']):\n",
    "    \n",
    "    train_one_epoch(model, device, optimizer, data_loader_train, print_freq, epoch)\n",
    "    current_metric = evaluate(model=model, dl=data_loader_test, device=device, iou_thresholds=[0.5], max_detection_thresholds=[50, 100, 200], filter_fn=None)\n",
    "    print(current_metric['map'].item())\n",
    "    if current_metric['map'].item() > best_metric:\n",
    "        torch.save(model.state_dict(), conf['path_to_model'])\n",
    "        best_metric = current_metric['map'].item()\n",
    "        \n",
    "    scheduler.step()"
   ]
  },
  {
   "cell_type": "code",
   "execution_count": null,
   "id": "a1f0d6bd",
   "metadata": {},
   "outputs": [],
   "source": [
    "current_metric = evaluate(model=model, dl=data_loader_test, device=device, iou_thresholds=[0.5], max_detection_thresholds=[50, 100, 200], filter_fn=None)"
   ]
  },
  {
   "cell_type": "code",
   "execution_count": null,
   "id": "65c504f1",
   "metadata": {},
   "outputs": [],
   "source": [
    "current_metric"
   ]
  },
  {
   "cell_type": "markdown",
   "id": "01453af4",
   "metadata": {},
   "source": [
    "### Инференс"
   ]
  },
  {
   "cell_type": "code",
   "execution_count": null,
   "id": "530373f9",
   "metadata": {},
   "outputs": [],
   "source": [
    "model.load_state_dict(torch.load(conf['path_to_model']))\n",
    "model.to(device)"
   ]
  },
  {
   "cell_type": "code",
   "execution_count": null,
   "id": "5e13c7c5",
   "metadata": {},
   "outputs": [],
   "source": [
    "from utils.visualisation import *"
   ]
  },
  {
   "cell_type": "code",
   "execution_count": null,
   "id": "ebeea094",
   "metadata": {},
   "outputs": [],
   "source": [
    "inference(model, device, data_loader_infer, threshold=0.5, class_names=conf['class_names'])"
   ]
  },
  {
   "cell_type": "code",
   "execution_count": null,
   "id": "7ff2fafc",
   "metadata": {},
   "outputs": [],
   "source": []
  }
 ],
 "metadata": {
  "kernelspec": {
   "display_name": "Python 3",
   "language": "python",
   "name": "python3"
  },
  "language_info": {
   "codemirror_mode": {
    "name": "ipython",
    "version": 3
   },
   "file_extension": ".py",
   "mimetype": "text/x-python",
   "name": "python",
   "nbconvert_exporter": "python",
   "pygments_lexer": "ipython3",
   "version": "3.7.12"
  }
 },
 "nbformat": 4,
 "nbformat_minor": 5
}
